{
 "cells": [
  {
   "cell_type": "markdown",
   "id": "79327a3b",
   "metadata": {},
   "source": [
    "Q1. Which function is used to open a file? What are the different modes of opening a file? Explain each mode\n",
    "of file opening.\n",
    "Ans:The open() function is used to open a file in Python. It takes two arguments: the path to the file, and the mode in which to open the file.\n",
    "\n",
    "There are several modes in which a file can be opened in Python:\n",
    "\n",
    "r: Read mode. This mode is used for reading data from a file. If the file does not exist, it will raise a FileNotFoundError exception.\n",
    "\n",
    "w: Write mode. This mode is used for writing data to a file. If the file already exists, its contents will be overwritten. If the file does not exist, a new file will be created.\n",
    "\n",
    "a: Append mode. This mode is used for appending data to an existing file. If the file does not exist, a new file will be created.\n",
    "\n",
    "x: Exclusive creation mode. This mode is used for creating a new file, but it will raise a FileExistsError exception if the file already exists.\n",
    "\n",
    "b: Binary mode. This mode is used for reading or writing binary data.\n",
    "\n",
    "t: Text mode. This mode is used for reading or writing text data. This is the default mode if no mode is specified."
   ]
  },
  {
   "cell_type": "markdown",
   "id": "dc6c3c1e",
   "metadata": {},
   "source": [
    "Q2. Why close() function is used? Why is it important to close a file?\n",
    "\n",
    "Ans:The close() function is used to close a file that was previously opened with the open() function. It is important to close a file after you are done working with it, because it releases the resources used by the file and ensures that any data that was buffered in memory is written to the file.\n",
    "\n",
    "If you do not close a file, the data that you wrote to the file may not be saved, and the resources used by the file may not be released. This can lead to problems if you try to access the file again later, or if your program runs for a long time and opens many files without closing them."
   ]
  },
  {
   "cell_type": "code",
   "execution_count": 1,
   "id": "e410ba56",
   "metadata": {},
   "outputs": [
    {
     "name": "stdout",
     "output_type": "stream",
     "text": [
      "I want to become a Data Scientist\n"
     ]
    }
   ],
   "source": [
    "# Q3. Write a python program to create a text file. Write ‘I want to become a Data Scientist’ in that file. Then\n",
    "# close the file. Open this file and read the content of the file.\n",
    "# Open file for writing\n",
    "with open(\"data_scientist.txt\", \"w\") as f:\n",
    "    f.write(\"I want to become a Data Scientist\")\n",
    "\n",
    "with open(\"data_scientist.txt\", \"r\") as f:\n",
    "    contents = f.read()\n",
    "    print(contents)\n"
   ]
  },
  {
   "cell_type": "code",
   "execution_count": 3,
   "id": "c24cd36f",
   "metadata": {},
   "outputs": [],
   "source": [
    "# Q4. Explain the following with python code: read(), readline() and readlines().\n",
    "\n",
    "\n",
    "# read():\n",
    "# The read() method reads the entire content of a file and returns it as a string.\n",
    "# This method is useful when you want to read the entire contents of the file at once.\n",
    "with open(\"example.txt\", \"r\") as f:\n",
    "    contents = f.read()\n",
    "    print(contents)\n",
    "\n",
    "# readline():\n",
    "# The readline() method reads a single line of text from the file and returns it as a string. \n",
    "# This method is useful when you want to read one line at a time from the file.\n",
    "with open(\"example.txt\", \"r\") as f:\n",
    "    line = f.readline()\n",
    "    print(line)\n",
    "\n",
    "# readlines():\n",
    "# The readlines() method reads all the lines of text from the file and returns them as a list of strings. \n",
    "# This method is useful when you want to read all the lines at once and store them in a list.\n",
    "with open(\"example.txt\", \"r\") as f:\n",
    "    lines = f.readlines()\n",
    "    for line in lines:\n",
    "        print(line)\n",
    "\n"
   ]
  },
  {
   "cell_type": "markdown",
   "id": "ded2bd6e",
   "metadata": {},
   "source": [
    "Q5. Explain why with statement is used with open(). What is the advantage of using with statement and\n",
    "open() together?\n",
    "Ans:The with statement is used with open() in Python to ensure that the file is properly closed after it has been used. When you open a file in Python, you need to close it explicitly using the close() method. \n",
    "The advantage of using with statement and open() together is that it simplifies the code and ensures that the file is properly closed after it has been used. You don't have to worry about calling the close() method explicitly or handling exceptions related to file handling. The with statement takes care of these things automatically. It also makes the code more readable by clearly indicating the start and end of the block of code that uses the file.\n"
   ]
  },
  {
   "cell_type": "code",
   "execution_count": 4,
   "id": "ef1ee1f6",
   "metadata": {},
   "outputs": [],
   "source": [
    "# Q6. Explain the write() and writelines() functions. Give a suitable example.\n",
    "#  Ans:In Python, the write() and writelines() functions are used to write data to a file.\n",
    "\n",
    "# write():\n",
    "# The write() function is used to write a single string to a file. \n",
    "# This function takes a single argument which is the string to be written to the file.\n",
    "# If the file already contains data, the new data will be appended to the end of the file.\n",
    "with open(\"example.txt\", \"w\") as f:\n",
    "    f.write(\"Hello, World!\")\n",
    "\n",
    "# writelines():\n",
    "# The writelines() function is used to write a list of strings to a file. \n",
    "# Each string in the list is written to the file as a separate line. \n",
    "with open(\"example.txt\", \"w\") as f:\n",
    "    lines = [\"Hello\", \"World\", \"How are you?\"]\n",
    "    f.writelines(lines)\n"
   ]
  },
  {
   "cell_type": "code",
   "execution_count": null,
   "id": "cd88b673",
   "metadata": {},
   "outputs": [],
   "source": []
  },
  {
   "cell_type": "code",
   "execution_count": null,
   "id": "4ebaddde",
   "metadata": {},
   "outputs": [],
   "source": []
  },
  {
   "cell_type": "code",
   "execution_count": null,
   "id": "5a79a335",
   "metadata": {},
   "outputs": [],
   "source": []
  },
  {
   "cell_type": "code",
   "execution_count": null,
   "id": "85cc2a4d",
   "metadata": {},
   "outputs": [],
   "source": []
  },
  {
   "cell_type": "code",
   "execution_count": null,
   "id": "77b7159e",
   "metadata": {},
   "outputs": [],
   "source": []
  }
 ],
 "metadata": {
  "kernelspec": {
   "display_name": "Python 3 (ipykernel)",
   "language": "python",
   "name": "python3"
  },
  "language_info": {
   "codemirror_mode": {
    "name": "ipython",
    "version": 3
   },
   "file_extension": ".py",
   "mimetype": "text/x-python",
   "name": "python",
   "nbconvert_exporter": "python",
   "pygments_lexer": "ipython3",
   "version": "3.10.5"
  }
 },
 "nbformat": 4,
 "nbformat_minor": 5
}
